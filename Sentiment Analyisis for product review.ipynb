{
 "cells": [
  {
   "cell_type": "markdown",
   "metadata": {},
   "source": [
    "# Sentiment Analyisis for product review"
   ]
  },
  {
   "cell_type": "code",
   "execution_count": 4,
   "metadata": {},
   "outputs": [
    {
     "name": "stderr",
     "output_type": "stream",
     "text": [
      "[nltk_data] Downloading package punkt to\n",
      "[nltk_data]     C:\\Users\\HP\\AppData\\Roaming\\nltk_data...\n",
      "[nltk_data]   Package punkt is already up-to-date!\n"
     ]
    }
   ],
   "source": [
    "import pandas as pd\n",
    "import torch\n",
    "import torch.nn as nn\n",
    "import torch.optim as optim\n",
    "from sklearn.model_selection import train_test_split\n",
    "from torch.utils.data import DataLoader, Dataset\n",
    "import nltk\n",
    "from nltk.tokenize import word_tokenize\n",
    "import numpy as np\n",
    "\n",
    "nltk.download('punkt')\n",
    "\n",
    "# Load dataset\n",
    "df = pd.read_csv(\"data\\Amazon-Product-Reviews-Sentiment-Analysis-in-Python-Dataset.csv\") \n",
    "\n",
    "\n",
    "def map_sentiment(rating):\n",
    "    return 0 if rating in [1,2] else (1 if rating == 3 else 2)\n",
    "\n",
    "df[\"Sentiment\"] = df[\"Sentiment\"].apply(map_sentiment)\n",
    "\n",
    "df[\"tokens\"] = df[\"Review\"].apply(lambda x: word_tokenize(str(x).lower()))\n",
    "\n",
    "\n",
    "word_to_index = {\"<PAD>\": 0, \"<UNK>\": 1}\n",
    "index = 2\n",
    "for tokens in df[\"tokens\"]:\n",
    "    for word in tokens:\n",
    "        if word not in word_to_index:\n",
    "            word_to_index[word] = index\n",
    "            index += 1\n",
    "\n",
    "\n",
    "max_len = 50 \n",
    "def encode_review(tokens):\n",
    "    encoded = [word_to_index.get(word, 1) for word in tokens]  \n",
    "    return encoded[:max_len] + [0] * (max_len - len(encoded))\n",
    "\n",
    "df[\"encoded\"] = df[\"tokens\"].apply(encode_review)\n",
    "\n",
    "\n",
    "train_texts, test_texts, train_labels, test_labels = train_test_split(\n",
    "    df[\"encoded\"].tolist(), df[\"Sentiment\"].tolist(), test_size=0.2, random_state=42\n",
    ")\n"
   ]
  },
  {
   "cell_type": "code",
   "execution_count": 5,
   "metadata": {},
   "outputs": [],
   "source": [
    "class SentimentDataset(Dataset):\n",
    "    def __init__(self, texts, labels):\n",
    "        self.texts = torch.tensor(texts, dtype=torch.long)\n",
    "        self.labels = torch.tensor(labels, dtype=torch.long)\n",
    "\n",
    "    def __len__(self):\n",
    "        return len(self.texts)\n",
    "\n",
    "    def __getitem__(self, idx):\n",
    "        return self.texts[idx], self.labels[idx]\n",
    "\n",
    "\n",
    "train_dataset = SentimentDataset(train_texts, train_labels)\n",
    "test_dataset = SentimentDataset(test_texts, test_labels)\n",
    "\n",
    "train_loader = DataLoader(train_dataset, batch_size=32, shuffle=True)\n",
    "test_loader = DataLoader(test_dataset, batch_size=32, shuffle=False)\n"
   ]
  },
  {
   "cell_type": "code",
   "execution_count": 6,
   "metadata": {},
   "outputs": [],
   "source": [
    "class LSTMSentiment(nn.Module):\n",
    "    def __init__(self, vocab_size, embedding_dim=128, hidden_dim=256, output_dim=3):\n",
    "        super(LSTMSentiment, self).__init__()\n",
    "        self.embedding = nn.Embedding(vocab_size, embedding_dim, padding_idx=0)\n",
    "        self.lstm = nn.LSTM(embedding_dim, hidden_dim, batch_first=True)\n",
    "        self.fc = nn.Linear(hidden_dim, output_dim)\n",
    "        self.softmax = nn.Softmax(dim=1)\n",
    "\n",
    "    def forward(self, x):\n",
    "        embedded = self.embedding(x)\n",
    "        lstm_out, _ = self.lstm(embedded)\n",
    "        out = self.fc(lstm_out[:, -1, :])  \n",
    "        return self.softmax(out)\n",
    "\n",
    "\n",
    "vocab_size = len(word_to_index)\n",
    "model = LSTMSentiment(vocab_size)\n"
   ]
  },
  {
   "cell_type": "code",
   "execution_count": 7,
   "metadata": {},
   "outputs": [
    {
     "name": "stdout",
     "output_type": "stream",
     "text": [
      "Epoch 1/10, Loss: 1.0578098149299622\n",
      "Epoch 2/10, Loss: 0.9321005096435547\n",
      "Epoch 3/10, Loss: 0.8718769039154053\n",
      "Epoch 4/10, Loss: 0.8403631739616394\n",
      "Epoch 5/10, Loss: 0.8181456240653991\n",
      "Epoch 6/10, Loss: 0.7990634164810181\n",
      "Epoch 7/10, Loss: 0.7865391444206238\n",
      "Epoch 8/10, Loss: 0.7671841526985168\n",
      "Epoch 9/10, Loss: 0.7498221593856812\n",
      "Epoch 10/10, Loss: 0.7311647711753845\n"
     ]
    }
   ],
   "source": [
    "device = torch.device(\"cuda\" if torch.cuda.is_available() else \"cpu\")\n",
    "model.to(device)\n",
    "\n",
    "criterion = nn.CrossEntropyLoss()\n",
    "optimizer = optim.Adam(model.parameters(), lr=0.001)\n",
    "\n",
    "\n",
    "num_epochs = 10\n",
    "for epoch in range(num_epochs):\n",
    "    model.train()\n",
    "    total_loss = 0\n",
    "    for texts, labels in train_loader:\n",
    "        texts, labels = texts.to(device), labels.to(device)\n",
    "\n",
    "        optimizer.zero_grad()\n",
    "        outputs = model(texts)\n",
    "        loss = criterion(outputs, labels)\n",
    "        loss.backward()\n",
    "        optimizer.step()\n",
    "\n",
    "        total_loss += loss.item()\n",
    "\n",
    "    print(f\"Epoch {epoch+1}/{num_epochs}, Loss: {total_loss / len(train_loader)}\")\n"
   ]
  },
  {
   "cell_type": "code",
   "execution_count": 8,
   "metadata": {},
   "outputs": [
    {
     "name": "stdout",
     "output_type": "stream",
     "text": [
      "              precision    recall  f1-score   support\n",
      "\n",
      "    Negative       0.71      0.75      0.73      2021\n",
      "     Neutral       0.34      0.28      0.30       985\n",
      "    Positive       0.74      0.76      0.75      1994\n",
      "\n",
      "    accuracy                           0.66      5000\n",
      "   macro avg       0.60      0.60      0.60      5000\n",
      "weighted avg       0.65      0.66      0.65      5000\n",
      "\n"
     ]
    }
   ],
   "source": [
    "from sklearn.metrics import classification_report\n",
    "\n",
    "model.eval()\n",
    "all_preds, all_labels = [], []\n",
    "\n",
    "with torch.no_grad():\n",
    "    for texts, labels in test_loader:\n",
    "        texts, labels = texts.to(device), labels.to(device)\n",
    "        outputs = model(texts)\n",
    "        preds = torch.argmax(outputs, dim=1)\n",
    "        \n",
    "        all_preds.extend(preds.cpu().numpy())\n",
    "        all_labels.extend(labels.cpu().numpy())\n",
    "\n",
    "print(classification_report(all_labels, all_preds, target_names=[\"Negative\", \"Neutral\", \"Positive\"]))\n"
   ]
  },
  {
   "cell_type": "code",
   "execution_count": null,
   "metadata": {},
   "outputs": [
    {
     "name": "stdout",
     "output_type": "stream",
     "text": [
      "Review: Fast shipping but the product is cheaply made.\n",
      "Sentiment: Negative 😡👎\n"
     ]
    }
   ],
   "source": [
    "sentiment_map = {\n",
    "    0: \"Negative 😡👎\",\n",
    "    1: \"Neutral 😐🤔\",\n",
    "    2: \"Positive 😀🔥\"\n",
    "}\n",
    "\n",
    "def predict_sentiment(review):\n",
    "    tokens = word_tokenize(review.lower())\n",
    "    encoded = encode_review(tokens)\n",
    "    input_tensor = torch.tensor([encoded], dtype=torch.long).to(device)\n",
    "\n",
    "    with torch.no_grad():\n",
    "        output = model(input_tensor)\n",
    "        sentiment = torch.argmax(output).item()\n",
    "\n",
    "    return sentiment_map[sentiment]\n",
    "\n",
    "review_text = \"Fast shipping but the product is cheaply made.\"\n",
    "print(f\"Review: {review_text}\")\n",
    "print(f\"Sentiment: {predict_sentiment(review_text)}\")\n"
   ]
  },
  {
   "cell_type": "code",
   "execution_count": null,
   "metadata": {},
   "outputs": [
    {
     "name": "stdout",
     "output_type": "stream",
     "text": [
      "Model and vocabulary saved successfully! ✅\n"
     ]
    }
   ],
   "source": [
    "\n",
    "# torch.save(model.state_dict(), \"lstm_sentiment_model.pth\")\n",
    "# #\n",
    "# with open(\"word_to_index.pkl\", \"wb\") as f:\n",
    "#     pickle.dump(word_to_index, f)\n",
    "\n",
    "# print(\"Model and vocabulary saved successfully! ✅\")\n"
   ]
  },
  {
   "cell_type": "code",
   "execution_count": null,
   "metadata": {},
   "outputs": [],
   "source": []
  }
 ],
 "metadata": {
  "kernelspec": {
   "display_name": "Python 3",
   "language": "python",
   "name": "python3"
  },
  "language_info": {
   "codemirror_mode": {
    "name": "ipython",
    "version": 3
   },
   "file_extension": ".py",
   "mimetype": "text/x-python",
   "name": "python",
   "nbconvert_exporter": "python",
   "pygments_lexer": "ipython3",
   "version": "3.10.0"
  }
 },
 "nbformat": 4,
 "nbformat_minor": 2
}
